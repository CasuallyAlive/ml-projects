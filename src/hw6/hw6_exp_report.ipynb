{
 "cells": [
  {
   "cell_type": "markdown",
   "metadata": {},
   "source": [
    "# 2 - Algorithm Experiments"
   ]
  },
  {
   "cell_type": "code",
   "execution_count": 3,
   "metadata": {},
   "outputs": [
    {
     "name": "stdout",
     "output_type": "stream",
     "text": [
      "The autoreload extension is already loaded. To reload it, use:\n",
      "  %reload_ext autoreload\n"
     ]
    }
   ],
   "source": [
    "import numpy as np \n",
    "import pandas as pd\n",
    "from utils import load_data, get_hp_combs\n",
    "from utils import calc_acc, five_fold_CV\n",
    "from utils import get_prediction_errors, calc_f1, calc_precision, calc_recall\n",
    "from svm import SVM\n",
    "from logistic_reg import LogisticRegression\n",
    "import matplotlib.pyplot as plt\n",
    "from decimal import Decimal\n",
    "\n",
    "%load_ext autoreload\n",
    "%autoreload 2"
   ]
  },
  {
   "cell_type": "markdown",
   "metadata": {},
   "source": [
    "## Load Data"
   ]
  },
  {
   "cell_type": "code",
   "execution_count": 81,
   "metadata": {},
   "outputs": [],
   "source": [
    "classes = [1, 0]\n",
    "X_train, Y_train, _ = load_data(classes, dir=\"data/train.csv\")\n",
    "X_test, Y_test, _ = load_data(classes, dir=\"data/test.csv\")\n",
    "\n",
    "# Hyper Parameter Settings\n",
    "L_RATES = np.power(np.ones(5)*10, -np.arange(5))\n",
    "REGS = np.power(np.ones(6)*10, np.arange(-4, 2))\n",
    "TRADEOFF = np.power(np.ones(6)*10, np.arange(-1, 5))\n",
    "EPOCHS=50 # For demonstrating classifier class and getting Loss function plots.\n",
    "CV_EPOCHS=50 # For reducing training runtimes.\n",
    "\n",
    "# 5 Fold Split Data\n",
    "ff_data = [load_data(classes, dir=f\"data/CVSplits/training0{i}.csv\")[:-1] for i in range(5)]\n",
    "labels = [-1, 1]"
   ]
  },
  {
   "cell_type": "markdown",
   "metadata": {},
   "source": [
    "## 2.1 - SVM Implementation Experiments"
   ]
  },
  {
   "cell_type": "markdown",
   "metadata": {},
   "source": [
    "### Implementation Details"
   ]
  },
  {
   "cell_type": "markdown",
   "metadata": {},
   "source": [
    "I implemented a class in the file svm.py to represent my SVM classifier. I instantiated the weights to be random values such that -1e-8 $\\leq w \\leq$ 1e-8 . The dataset was shuffled at each epoch and I used a decaying learning rate $r_{t+1}= r_t / (1+t)$ . The Stochastic Sub-Gradient Descent algorithm was used to minimize the hinge loss function as presented in lecture. The bias term was located at the beginning of the weight vector and ones were inserted into the beginning of the input data matrix to allow implicit calculations w/ the bias term. My SVM assumed a regularized average hinge loss, so the loss at each epoch was calculated as $L = 1/n * \\Sigma (max(0, 1 - y (w^T x))) + 0.5 * \\| w \\|^2$ ."
   ]
  },
  {
   "cell_type": "markdown",
   "metadata": {},
   "source": [
    "### Demo - SVM Class"
   ]
  },
  {
   "cell_type": "code",
   "execution_count": 72,
   "metadata": {},
   "outputs": [],
   "source": [
    "# simple svm demo\n",
    "labels = [-1, 1]\n",
    "model = SVM(labels, r=L_RATES[1], C=REGS[1], epochs=10, exit_on_converge=False)\n",
    "loss = model.train(X_train, Y_train)"
   ]
  },
  {
   "cell_type": "code",
   "execution_count": 73,
   "metadata": {},
   "outputs": [
    {
     "name": "stdout",
     "output_type": "stream",
     "text": [
      "Accuracy on training set: 0.7772 w/ tol = 0.0001\n"
     ]
    }
   ],
   "source": [
    "# print accuracy on testing set.\n",
    "acc = calc_acc(model.predict(X_test), Y_test)\n",
    "print(f\"Accuracy on training set: {acc} w/ tol = {model.tol}\")"
   ]
  },
  {
   "cell_type": "markdown",
   "metadata": {},
   "source": [
    "### Loss Function Over 10 Epochs"
   ]
  },
  {
   "cell_type": "code",
   "execution_count": 74,
   "metadata": {},
   "outputs": [
    {
     "data": {
      "image/png": "[encoded data removed]",
      "text/plain": [
       "<Figure size 432x288 with 1 Axes>"
      ]
     },
     "metadata": {
      "needs_background": "light"
     },
     "output_type": "display_data"
    }
   ],
   "source": [
    "epochs = np.arange(10)\n",
    "\n",
    "plt.plot(epochs, loss)\n",
    "\n",
    "plt.xlabel('Epochs')\n",
    "plt.ylabel('Loss')\n",
    "plt.show()"
   ]
  },
  {
   "cell_type": "markdown",
   "metadata": {},
   "source": [
    "### Algorithm CV Experiments"
   ]
  },
  {
   "cell_type": "markdown",
   "metadata": {},
   "source": [
    "#### CV For Best Hyper-Parameters"
   ]
  },
  {
   "cell_type": "code",
   "execution_count": 82,
   "metadata": {},
   "outputs": [],
   "source": [
    "# Get stats\n",
    "hps = get_hp_combs(L_RATES, REGS).tolist()\n",
    "labels = [-1, 1]\n",
    "\n",
    "cvv_stats, _ = five_fold_CV(\n",
    "    k_datasets=ff_data,\n",
    "    labels=labels,\n",
    "    hyperparams=hps,\n",
    "    epochs=CV_EPOCHS\n",
    ")"
   ]
  },
  {
   "cell_type": "code",
   "execution_count": 83,
   "metadata": {},
   "outputs": [
    {
     "name": "stdout",
     "output_type": "stream",
     "text": [
      "Accuracy statistics from five-fold cross-validation:\n",
      "\n",
      "learning rate 'r' | C\t\t| five-fold mean | five-fold std\n",
      "r=1.0\t\t  | C=0.0001\t| 0.697\t\t | 0.099\n",
      "r=0.1\t\t  | C=0.0001\t| 0.78\t\t | 0.004\n",
      "r=0.01\t\t  | C=0.0001\t| 0.78\t\t | 0.004\n",
      "r=0.001\t\t  | C=0.0001\t| 0.78\t\t | 0.004\n",
      "r=0.0001\t\t  | C=0.0001\t| 0.78\t\t | 0.004\n",
      "r=1.0\t\t  | C=0.001\t| 0.658\t\t | 0.218\n",
      "r=0.1\t\t  | C=0.001\t| 0.78\t\t | 0.004\n",
      "r=0.01\t\t  | C=0.001\t| 0.78\t\t | 0.004\n",
      "r=0.001\t\t  | C=0.001\t| 0.78\t\t | 0.004\n",
      "r=0.0001\t\t  | C=0.001\t| 0.78\t\t | 0.004\n",
      "r=1.0\t\t  | C=0.01\t| 0.652\t\t | 0.166\n",
      "r=0.1\t\t  | C=0.01\t| 0.78\t\t | 0.004\n",
      "r=0.01\t\t  | C=0.01\t| 0.78\t\t | 0.004\n",
      "r=0.001\t\t  | C=0.01\t| 0.78\t\t | 0.004\n",
      "r=0.0001\t\t  | C=0.01\t| 0.78\t\t | 0.004\n",
      "r=1.0\t\t  | C=0.1\t| 0.78\t\t | 0.004\n",
      "r=0.1\t\t  | C=0.1\t| 0.78\t\t | 0.004\n",
      "r=0.01\t\t  | C=0.1\t| 0.78\t\t | 0.004\n",
      "r=0.001\t\t  | C=0.1\t| 0.78\t\t | 0.004\n",
      "r=0.0001\t\t  | C=0.1\t| 0.78\t\t | 0.004\n",
      "r=1.0\t\t  | C=1.0\t| 0.78\t\t | 0.004\n",
      "r=0.1\t\t  | C=1.0\t| 0.78\t\t | 0.004\n",
      "r=0.01\t\t  | C=1.0\t| 0.78\t\t | 0.004\n",
      "r=0.001\t\t  | C=1.0\t| 0.78\t\t | 0.004\n",
      "r=0.0001\t\t  | C=1.0\t| 0.78\t\t | 0.004\n",
      "r=1.0\t\t  | C=10.0\t| 0.662\t\t | 0.167\n",
      "r=0.1\t\t  | C=10.0\t| 0.799\t\t | 0.008\n",
      "r=0.01\t\t  | C=10.0\t| 0.798\t\t | 0.003\n",
      "r=0.001\t\t  | C=10.0\t| 0.794\t\t | 0.003\n",
      "r=0.0001\t\t  | C=10.0\t| 0.794\t\t | 0.003\n"
     ]
    }
   ],
   "source": [
    "# Print Stats\n",
    "print(\"Accuracy statistics from five-fold cross-validation:\\n\")\n",
    "print(\"learning rate 'r' | C\\t\\t| five-fold mean | five-fold std\")\n",
    "for (r, C), (mean, std) in cvv_stats.items():\n",
    "    print(f\"r={r}\\t\\t  | C={C}\\t| {np.round(mean, 3)}\\t\\t | {np.round(std, 3)}\")\n"
   ]
  },
  {
   "cell_type": "markdown",
   "metadata": {},
   "source": [
    "#### Best Hyperparameters CV Experiments Discussion"
   ]
  },
  {
   "cell_type": "markdown",
   "metadata": {},
   "source": [
    "The SVM classifiers above were trained for at most 50 epochs and training was allowed to stop if the loss was sampled to converge within a tolerance of 1e-4. From looking at the table above, the best five-fold accuracy was 0.798 (SD = 0.003) when the learning-rate r = 1e-2 and regularization C = 10. These hyperparameters will be used to train the SVM in the next section."
   ]
  },
  {
   "cell_type": "markdown",
   "metadata": {},
   "source": [
    "### Implementation Precision, Recall, and $F_1$ Scores"
   ]
  },
  {
   "cell_type": "code",
   "execution_count": null,
   "metadata": {},
   "outputs": [],
   "source": [
    "# SVM Classifier trained over 50 epochs w/ best hyperparameters\n",
    "R_LR_BEST = 1e-2\n",
    "C_LR_BEST = 10"
   ]
  },
  {
   "cell_type": "code",
   "execution_count": 100,
   "metadata": {},
   "outputs": [],
   "source": [
    "# Train SVM Classifier\n",
    "model_svm = SVM(labels, r=R_SVM_BEST, C=C_SVM_BEST, epochs=5, exit_on_converge=True)\n",
    "loss_svm = model_svm.train(X_train, Y_train)"
   ]
  },
  {
   "cell_type": "code",
   "execution_count": 101,
   "metadata": {},
   "outputs": [
    {
     "name": "stdout",
     "output_type": "stream",
     "text": [
      "Accuracy on training set: 0.8051 w/ r = 0.01 and C = 10.\n"
     ]
    }
   ],
   "source": [
    "# Print accuracy on testing set.\n",
    "acc = calc_acc(model_svm.predict(X_test), Y_test)\n",
    "print(f\"Accuracy on training set: {acc} w/ r = {R_SVM_BEST} and C = {C_SVM_BEST}.\")"
   ]
  },
  {
   "cell_type": "code",
   "execution_count": 102,
   "metadata": {},
   "outputs": [
    {
     "data": {
      "image/png": "[encoded data removed]",
      "text/plain": [
       "<Figure size 432x288 with 1 Axes>"
      ]
     },
     "metadata": {
      "needs_background": "light"
     },
     "output_type": "display_data"
    }
   ],
   "source": [
    "# Plot Loss function of SVM w/ 'best' Hyperparameters\n",
    "epochs_svm = np.arange(len(loss_svm))\n",
    "\n",
    "plt.plot(epochs_svm, loss_svm)\n",
    "\n",
    "plt.xlabel('Epochs')\n",
    "plt.ylabel('Loss')\n",
    "plt.show()"
   ]
  },
  {
   "cell_type": "code",
   "execution_count": 103,
   "metadata": {},
   "outputs": [],
   "source": [
    "# Print true positive, false positive, false negative, and true negative scores.\n",
    "tp_svm, fp_svm, fn_svm, tn_svm = get_prediction_errors(Y_test, model_svm.predict(X_test))"
   ]
  },
  {
   "cell_type": "code",
   "execution_count": 104,
   "metadata": {},
   "outputs": [
    {
     "name": "stdout",
     "output_type": "stream",
     "text": [
      "Precision Score: 0.6984352773826458\n",
      "Recall Score: 0.2203770197486535\n",
      "F1 Score: 0.33503923575571476\n"
     ]
    }
   ],
   "source": [
    "# Print F_1, recall, and precision scores\n",
    "p_svm = calc_precision(tp_svm, fp_svm)\n",
    "rec_svm = calc_recall(tp_svm, fn_svm)\n",
    "f1_svm = calc_f1(p_svm, rec_svm)\n",
    "\n",
    "print(f\"Precision Score: {p_svm}\")\n",
    "print(f\"Recall Score: {rec_svm}\")\n",
    "print(f\"F1 Score: {f1_svm}\")"
   ]
  },
  {
   "cell_type": "markdown",
   "metadata": {},
   "source": [
    "#### Discussion"
   ]
  },
  {
   "cell_type": "markdown",
   "metadata": {},
   "source": [
    "Currently, at the hyperparameters I listed, my SVM classifier is right most of the time when it predicts a positive but it is missing most of all actual positives; hence, the low reported $F_1$ score. Maybe if I increased or decreased the five-fold CV epochs we might get a higher scoring model. Currently, the SVM classifier is not converging within 100 epochs (tol = 1e-4). I obtained the top $F_1$ score by only training the model with the \"best\" hyperparameters for 5 epochs. It seems that the data leans more towards negative examples so this could be a consequence of the data quality as well."
   ]
  },
  {
   "cell_type": "markdown",
   "metadata": {},
   "source": [
    "## 2.2 - Logistic Regression Implementation Experiments"
   ]
  },
  {
   "cell_type": "markdown",
   "metadata": {},
   "source": [
    "### Implementation Details"
   ]
  },
  {
   "cell_type": "markdown",
   "metadata": {},
   "source": [
    "I implemented a class in the file logistic_reg.py to represent my Logistic Regression (LR) classifier. I instantiated the weights to be random values such that -1e-8 $\\leq w \\leq$ 1e-8 . The dataset was shuffled at each epoch and I used a decaying learning rate $r_{t+1}= r_t / (1+t)$ . The Stochastic Gradient Descent algorithm was used to minimize the loss function on question 1 of this homework. The bias term was located at the beginning of the weight vector and ones were inserted into the beginning of the input data matrix to allow implicit calculations w/ the bias term. My LR assumed an L2 regularized cross-entropy loss."
   ]
  },
  {
   "cell_type": "markdown",
   "metadata": {},
   "source": [
    "### Demo - Logistic Regression Class"
   ]
  },
  {
   "cell_type": "code",
   "execution_count": null,
   "metadata": {},
   "outputs": [
    {
     "name": "stdout",
     "output_type": "stream",
     "text": [
      "Converged at epoch T=64\n"
     ]
    }
   ],
   "source": [
    "# simple LR demo\n",
    "labels = [-1, 1]\n",
    "model = LogisticRegression(labels, r=L_RATES[0], sigma=TRADEOFF[2], epochs=100)\n",
    "loss = model.train(X_train, Y_train)"
   ]
  },
  {
   "cell_type": "code",
   "execution_count": 106,
   "metadata": {},
   "outputs": [
    {
     "name": "stdout",
     "output_type": "stream",
     "text": [
      "Accuracy on training set: 0.8125 w/ tol = 0.0001\n"
     ]
    }
   ],
   "source": [
    "# print accuracy on training set.\n",
    "acc = calc_acc(model.predict(X_train), Y_train)\n",
    "print(f\"Accuracy on training set: {acc} w/ tol = {model.tol}\")"
   ]
  },
  {
   "cell_type": "markdown",
   "metadata": {},
   "source": [
    "### Loss Function Over 10 Epochs"
   ]
  },
  {
   "cell_type": "code",
   "execution_count": null,
   "metadata": {},
   "outputs": [
    {
     "data": {
      "image/png": "[encoded data removed]",
      "text/plain": [
       "<Figure size 432x288 with 1 Axes>"
      ]
     },
     "metadata": {
      "needs_background": "light"
     },
     "output_type": "display_data"
    }
   ],
   "source": [
    "epochs = np.arange(100)\n",
    "\n",
    "plt.plot(epochs[0:63], loss[0:63]) # might need to edit this\n",
    "\n",
    "plt.xlabel('Epochs')\n",
    "plt.ylabel('Loss')\n",
    "plt.show()"
   ]
  },
  {
   "cell_type": "markdown",
   "metadata": {},
   "source": [
    "### Algorithm CV Experiments"
   ]
  },
  {
   "cell_type": "markdown",
   "metadata": {},
   "source": [
    "#### CV For Best Hyper-Parameters"
   ]
  },
  {
   "cell_type": "code",
   "execution_count": 109,
   "metadata": {},
   "outputs": [],
   "source": [
    "# Get stats\n",
    "hps = get_hp_combs(L_RATES, TRADEOFF).tolist()\n",
    "labels = [-1, 1]\n",
    "\n",
    "cvv_stats, _ = five_fold_CV(\n",
    "    k_datasets=ff_data,\n",
    "    labels=labels,\n",
    "    hyperparams=hps,\n",
    "    epochs=CV_EPOCHS\n",
    ")"
   ]
  },
  {
   "cell_type": "code",
   "execution_count": 111,
   "metadata": {},
   "outputs": [
    {
     "name": "stdout",
     "output_type": "stream",
     "text": [
      "Accuracy statistics from five-fold cross-validation:\n",
      "\n",
      "learning rate 'r' | s\t\t| five-fold mean | five-fold std\n",
      "r=1.0\t\t  | s=0.1\t| 0.78\t\t | 0.004\n",
      "r=0.1\t\t  | s=0.1\t| 0.78\t\t | 0.004\n",
      "r=0.01\t\t  | s=0.1\t| 0.78\t\t | 0.004\n",
      "r=0.001\t\t  | s=0.1\t| 0.78\t\t | 0.004\n",
      "r=0.0001\t\t  | s=0.1\t| 0.78\t\t | 0.004\n",
      "r=1.0\t\t  | s=1.0\t| 0.78\t\t | 0.004\n",
      "r=0.1\t\t  | s=1.0\t| 0.78\t\t | 0.004\n",
      "r=0.01\t\t  | s=1.0\t| 0.78\t\t | 0.004\n",
      "r=0.001\t\t  | s=1.0\t| 0.78\t\t | 0.004\n",
      "r=0.0001\t\t  | s=1.0\t| 0.78\t\t | 0.004\n",
      "r=1.0\t\t  | s=10.0\t| 0.682\t\t | 0.192\n",
      "r=0.1\t\t  | s=10.0\t| 0.799\t\t | 0.009\n",
      "r=0.01\t\t  | s=10.0\t| 0.797\t\t | 0.004\n",
      "r=0.001\t\t  | s=10.0\t| 0.794\t\t | 0.003\n",
      "r=0.0001\t\t  | s=10.0\t| 0.794\t\t | 0.004\n",
      "r=1.0\t\t  | s=100.0\t| 0.735\t\t | 0.056\n",
      "r=0.1\t\t  | s=100.0\t| 0.73\t\t | 0.069\n",
      "r=0.01\t\t  | s=100.0\t| 0.818\t\t | 0.003\n",
      "r=0.001\t\t  | s=100.0\t| 0.817\t\t | 0.002\n",
      "r=0.0001\t\t  | s=100.0\t| 0.817\t\t | 0.002\n",
      "r=1.0\t\t  | s=1000.0\t| 0.696\t\t | 0.171\n",
      "r=0.1\t\t  | s=1000.0\t| 0.69\t\t | 0.085\n",
      "r=0.01\t\t  | s=1000.0\t| 0.774\t\t | 0.037\n",
      "r=0.001\t\t  | s=1000.0\t| 0.817\t\t | 0.002\n",
      "r=0.0001\t\t  | s=1000.0\t| 0.818\t\t | 0.002\n",
      "r=1.0\t\t  | s=10000.0\t| 0.664\t\t | 0.139\n",
      "r=0.1\t\t  | s=10000.0\t| 0.677\t\t | 0.144\n",
      "r=0.01\t\t  | s=10000.0\t| 0.742\t\t | 0.043\n",
      "r=0.001\t\t  | s=10000.0\t| 0.758\t\t | 0.056\n",
      "r=0.0001\t\t  | s=10000.0\t| 0.818\t\t | 0.002\n"
     ]
    }
   ],
   "source": [
    "# Print Stats\n",
    "print(\"Accuracy statistics from five-fold cross-validation:\\n\")\n",
    "print(\"learning rate 'r' | s\\t\\t| five-fold mean | five-fold std\")\n",
    "for (r, s), (mean, std) in cvv_stats.items():\n",
    "    print(f\"r={r}\\t\\t  | s={s}\\t| {np.round(mean, 3)}\\t\\t | {np.round(std, 3)}\")\n"
   ]
  },
  {
   "cell_type": "markdown",
   "metadata": {},
   "source": [
    "#### Best Hyperparameters CV Experiments Discussion"
   ]
  },
  {
   "cell_type": "markdown",
   "metadata": {},
   "source": [
    "The Logistic Regression (LR) classifiers above were trained for at most 25 epochs and training was allowed to stop if the loss was sampled to converge within a tolerance of 1e-4. From looking at the table above, the best five-fold mean average of 0.82 occurred several times amongst 5 hyperparameter pairs. I selected r =1e-3 and $\\sigma$=1e3 at random to train the LR classifier in the next section."
   ]
  },
  {
   "cell_type": "markdown",
   "metadata": {},
   "source": [
    "### Implementation Precision, Recall, and $F_1$ Scores"
   ]
  },
  {
   "cell_type": "code",
   "execution_count": 114,
   "metadata": {},
   "outputs": [],
   "source": [
    "# LR Classifier trained over 50 epochs w/ best hyperparameters\n",
    "R_LR_BEST = 1e-3\n",
    "S_LR_BEST = 1e3"
   ]
  },
  {
   "cell_type": "code",
   "execution_count": 115,
   "metadata": {},
   "outputs": [
    {
     "name": "stdout",
     "output_type": "stream",
     "text": [
      "Converged at epoch T=16\n"
     ]
    }
   ],
   "source": [
    "# Train LR Classifier\n",
    "model_LR = LogisticRegression(labels, r=R_LR_BEST, sigma=S_LR_BEST, epochs=EPOCHS, exit_on_converge=True)\n",
    "loss_LR = model_LR.train(X_train, Y_train)"
   ]
  },
  {
   "cell_type": "code",
   "execution_count": 116,
   "metadata": {},
   "outputs": [
    {
     "name": "stdout",
     "output_type": "stream",
     "text": [
      "Accuracy on training set: 0.8189 w/ r = 0.001 and C = 1000.0.\n"
     ]
    }
   ],
   "source": [
    "# Print accuracy on testing set.\n",
    "acc = calc_acc(model_LR.predict(X_test), Y_test)\n",
    "print(f\"Accuracy on training set: {acc} w/ r = {R_LR_BEST} and C = {S_LR_BEST}.\")"
   ]
  },
  {
   "cell_type": "code",
   "execution_count": 117,
   "metadata": {},
   "outputs": [
    {
     "data": {
      "image/png": "[encoded data removed]",
      "text/plain": [
       "<Figure size 432x288 with 1 Axes>"
      ]
     },
     "metadata": {
      "needs_background": "light"
     },
     "output_type": "display_data"
    }
   ],
   "source": [
    "# Plot Loss function of LR w/ 'best' Hyperparameters\n",
    "epochs_LR = np.arange(len(loss_LR))\n",
    "\n",
    "plt.plot(epochs_LR, loss_LR)\n",
    "\n",
    "plt.xlabel('Epochs')\n",
    "plt.ylabel('Loss')\n",
    "plt.show()"
   ]
  },
  {
   "cell_type": "code",
   "execution_count": 118,
   "metadata": {},
   "outputs": [],
   "source": [
    "# Print true positive, false positive, false negative, and true negative scores.\n",
    "tp_LR, fp_LR, fn_LR, tn_LR = get_prediction_errors(Y_test, model_LR.predict(X_test))"
   ]
  },
  {
   "cell_type": "code",
   "execution_count": 119,
   "metadata": {},
   "outputs": [
    {
     "name": "stdout",
     "output_type": "stream",
     "text": [
      "Precision Score: 0.7022308438409312\n",
      "Recall Score: 0.3249551166965889\n",
      "F1 Score: 0.44430806996011046\n"
     ]
    }
   ],
   "source": [
    "# Print F_1, recall, and precision scores\n",
    "p_LR = calc_precision(tp_LR, fp_LR)\n",
    "rec_LR = calc_recall(tp_LR, fn_LR)\n",
    "f1_LR = calc_f1(p_LR, rec_LR)\n",
    "\n",
    "print(f\"Precision Score: {p_LR}\")\n",
    "print(f\"Recall Score: {rec_LR}\")\n",
    "print(f\"F1 Score: {f1_LR}\")"
   ]
  },
  {
   "cell_type": "markdown",
   "metadata": {},
   "source": [
    "#### Discussion"
   ]
  },
  {
   "cell_type": "markdown",
   "metadata": {},
   "source": [
    "Currently, at the hyperparameters I listed, my LR classifier is right most of the time when it predicts a positive but it is missing about a third of all actual positives (an improvement over the SVM classifier). Therefore, my LR classifier is doing decently well especially when comparing to the performance of my SVM classifier above. Some experimentation w/ the other four optimal hyperparameter pairs might increase the $F_1$ score but I did not test other pairs for this report."
   ]
  }
 ],
 "metadata": {
  "kernelspec": {
   "display_name": "cade_env",
   "language": "python",
   "name": "python3"
  },
  "language_info": {
   "codemirror_mode": {
    "name": "ipython",
    "version": 3
   },
   "file_extension": ".py",
   "mimetype": "text/x-python",
   "name": "python",
   "nbconvert_exporter": "python",
   "pygments_lexer": "ipython3",
   "version": "3.9.7"
  }
 },
 "nbformat": 4,
 "nbformat_minor": 2
}
