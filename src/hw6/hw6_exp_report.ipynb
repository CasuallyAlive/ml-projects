{
 "cells": [
  {
   "cell_type": "markdown",
   "metadata": {},
   "source": [
    "# Experiments"
   ]
  },
  {
   "cell_type": "code",
   "execution_count": 2,
   "metadata": {},
   "outputs": [],
   "source": [
    "import numpy as np \n",
    "import pandas as pd\n",
    "from utils import load_data, get_hp_combs\n",
    "from utils import calc_acc, five_fold_CV\n",
    "from svm import SVM\n",
    "from decimal import Decimal\n",
    "\n",
    "%load_ext autoreload\n",
    "%autoreload 2"
   ]
  },
  {
   "cell_type": "markdown",
   "metadata": {},
   "source": [
    "## Load Data"
   ]
  },
  {
   "cell_type": "code",
   "execution_count": 3,
   "metadata": {},
   "outputs": [],
   "source": [
    "classes = [1, 0]\n",
    "X_train, Y_train, _ = load_data(classes, dir=\"data/train.csv\")\n",
    "X_test, Y_test, _ = load_data(classes, dir=\"data/test.csv\")\n",
    "\n",
    "# Hyper Parameter Settings\n",
    "L_RATES = np.power(np.ones(5)*10, -np.arange(5))\n",
    "REGS = np.power(np.ones(6)*10, np.arange(-4, 2))\n",
    "\n",
    "# 5 Fold Split Data\n",
    "ff_data = [load_data(classes, dir=f\"data/CVSplits/training0{i}.csv\")[:-1] for i in range(5)]"
   ]
  },
  {
   "cell_type": "markdown",
   "metadata": {},
   "source": [
    "## SVM Experiments"
   ]
  },
  {
   "cell_type": "code",
   "execution_count": 4,
   "metadata": {},
   "outputs": [],
   "source": [
    "EPOCHS=10 # Chosen randomly, allows for faster training times."
   ]
  },
  {
   "cell_type": "markdown",
   "metadata": {},
   "source": [
    "### Demo - SVM Class"
   ]
  },
  {
   "cell_type": "code",
   "execution_count": 8,
   "metadata": {},
   "outputs": [
    {
     "name": "stdout",
     "output_type": "stream",
     "text": [
      "Converged at epoch T=6\n"
     ]
    }
   ],
   "source": [
    "# simple svm demo\n",
    "labels = [-1, 1]\n",
    "model = SVM(labels, r=L_RATES[0], C=REGS[0], epochs=EPOCHS)\n",
    "_ = model.train(X_train, Y_train)"
   ]
  },
  {
   "cell_type": "code",
   "execution_count": 9,
   "metadata": {},
   "outputs": [
    {
     "name": "stdout",
     "output_type": "stream",
     "text": [
      "Accuracy on training set: 0.7796 w/ tol = 0.0001\n"
     ]
    }
   ],
   "source": [
    "# print accuracy on training set.\n",
    "acc = calc_acc(model.predict(X_train), Y_train)\n",
    "print(f\"Accuracy on training set: {acc} w/ tol = {model.tol}\")"
   ]
  },
  {
   "cell_type": "markdown",
   "metadata": {},
   "source": [
    "### Algorithm CV Experiments"
   ]
  },
  {
   "cell_type": "markdown",
   "metadata": {},
   "source": [
    "#### CV For Best Hyper-Parameters"
   ]
  },
  {
   "cell_type": "code",
   "execution_count": 10,
   "metadata": {},
   "outputs": [],
   "source": [
    "# Get stats\n",
    "hps = get_hp_combs(L_RATES, REGS).tolist()\n",
    "labels = [-1, 1]\n",
    "\n",
    "cvv_stats, _ = five_fold_CV(\n",
    "    k_datasets=ff_data,\n",
    "    labels=labels,\n",
    "    hyperparams=hps,\n",
    "    epochs=EPOCHS\n",
    ")"
   ]
  },
  {
   "cell_type": "code",
   "execution_count": 55,
   "metadata": {},
   "outputs": [
    {
     "name": "stdout",
     "output_type": "stream",
     "text": [
      "Accuracy statistics from five-fold cross-validation:\n",
      "\n",
      "learning rate 'r' | C\t\t| five-fold mean | five-fold std\n",
      "r=1.0\t\t  | C=0.0001\t| 0.78\t\t | 0.004\n",
      "r=0.1\t\t  | C=0.0001\t| 0.22\t\t | 0.004\n",
      "r=0.01\t\t  | C=0.0001\t| 0.22\t\t | 0.004\n",
      "r=0.001\t\t  | C=0.0001\t| 0.22\t\t | 0.004\n",
      "r=0.0001\t\t  | C=0.0001\t| 0.22\t\t | 0.004\n",
      "r=1.0\t\t  | C=0.001\t| 0.78\t\t | 0.004\n",
      "r=0.1\t\t  | C=0.001\t| 0.22\t\t | 0.004\n",
      "r=0.01\t\t  | C=0.001\t| 0.22\t\t | 0.004\n",
      "r=0.001\t\t  | C=0.001\t| 0.22\t\t | 0.004\n",
      "r=0.0001\t\t  | C=0.001\t| 0.22\t\t | 0.004\n",
      "r=1.0\t\t  | C=0.01\t| 0.78\t\t | 0.004\n",
      "r=0.1\t\t  | C=0.01\t| 0.22\t\t | 0.004\n",
      "r=0.01\t\t  | C=0.01\t| 0.22\t\t | 0.004\n",
      "r=0.001\t\t  | C=0.01\t| 0.22\t\t | 0.004\n",
      "r=0.0001\t\t  | C=0.01\t| 0.22\t\t | 0.004\n",
      "r=1.0\t\t  | C=0.1\t| 0.78\t\t | 0.004\n",
      "r=0.1\t\t  | C=0.1\t| 0.22\t\t | 0.004\n",
      "r=0.01\t\t  | C=0.1\t| 0.22\t\t | 0.004\n",
      "r=0.001\t\t  | C=0.1\t| 0.22\t\t | 0.004\n",
      "r=0.0001\t\t  | C=0.1\t| 0.22\t\t | 0.004\n",
      "r=1.0\t\t  | C=1.0\t| 0.78\t\t | 0.004\n",
      "r=0.1\t\t  | C=1.0\t| 0.22\t\t | 0.004\n",
      "r=0.01\t\t  | C=1.0\t| 0.22\t\t | 0.004\n",
      "r=0.001\t\t  | C=1.0\t| 0.22\t\t | 0.004\n",
      "r=0.0001\t\t  | C=1.0\t| 0.22\t\t | 0.004\n",
      "r=1.0\t\t  | C=10.0\t| 0.794\t\t | 0.004\n",
      "r=0.1\t\t  | C=10.0\t| 0.22\t\t | 0.004\n",
      "r=0.01\t\t  | C=10.0\t| 0.22\t\t | 0.004\n",
      "r=0.001\t\t  | C=10.0\t| 0.22\t\t | 0.004\n",
      "r=0.0001\t\t  | C=10.0\t| 0.22\t\t | 0.004\n"
     ]
    }
   ],
   "source": [
    "# Print Stats\n",
    "print(\"Accuracy statistics from five-fold cross-validation:\\n\")\n",
    "print(\"learning rate 'r' | C\\t\\t| five-fold mean | five-fold std\")\n",
    "for (r, C), (mean, std) in cvv_stats.items():\n",
    "    print(f\"r={r}\\t\\t  | C={C}\\t| {np.round(mean, 3)}\\t\\t | {np.round(std, 3)}\")\n"
   ]
  },
  {
   "cell_type": "markdown",
   "metadata": {},
   "source": [
    "## "
   ]
  }
 ],
 "metadata": {
  "kernelspec": {
   "display_name": "cade_env",
   "language": "python",
   "name": "python3"
  },
  "language_info": {
   "codemirror_mode": {
    "name": "ipython",
    "version": 3
   },
   "file_extension": ".py",
   "mimetype": "text/x-python",
   "name": "python",
   "nbconvert_exporter": "python",
   "pygments_lexer": "ipython3",
   "version": "3.9.7"
  }
 },
 "nbformat": 4,
 "nbformat_minor": 2
}
