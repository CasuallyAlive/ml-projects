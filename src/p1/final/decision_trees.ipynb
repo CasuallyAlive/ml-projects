{
 "cells": [
  {
   "cell_type": "markdown",
   "metadata": {},
   "source": [
    "# Decision Tree Experiments"
   ]
  },
  {
   "cell_type": "code",
   "execution_count": 19,
   "metadata": {},
   "outputs": [
    {
     "name": "stdout",
     "output_type": "stream",
     "text": [
      "The autoreload extension is already loaded. To reload it, use:\n",
      "  %reload_ext autoreload\n"
     ]
    }
   ],
   "source": [
    "import sys\n",
    "sys.path.append('../../../src')\n",
    "\n",
    "import glob, os\n",
    "import numpy as np \n",
    "import scipy as sp\n",
    "import pandas as pd\n",
    "from sklearn import decomposition, datasets, svm\n",
    "from matplotlib import pyplot as plt\n",
    "from p1.models.utils import get_divided_data, get_data_comp, get_common_label\n",
    "from p1.models.utils import get_data_col, get_project_data, get_num\n",
    "from p1.models.utils import creat_pred_file, calc_acc\n",
    "\n",
    "%load_ext autoreload\n",
    "%autoreload 2"
   ]
  },
  {
   "cell_type": "markdown",
   "metadata": {},
   "source": [
    "## Data Loading"
   ]
  },
  {
   "cell_type": "code",
   "execution_count": 32,
   "metadata": {},
   "outputs": [],
   "source": [
    "# Get Files\n",
    "data_dir = \"../project_data/data\"\n",
    "labels = [\"not guilty\", \"guilty\"]\n",
    "\n",
    "(_, _, _, misc), Y = get_project_data(opts=[False, False, False, True])"
   ]
  },
  {
   "cell_type": "markdown",
   "metadata": {},
   "source": [
    "## Experiments"
   ]
  },
  {
   "cell_type": "code",
   "execution_count": 3,
   "metadata": {},
   "outputs": [],
   "source": [
    "misc_train, misc_eval, misc_test = (misc[i] for i in range(3))\n",
    "Y_train, Y_eval, Y_test = (Y[i] for i in range(3))"
   ]
  },
  {
   "cell_type": "markdown",
   "metadata": {},
   "source": [
    "### Defining Splitting Behavior\n",
    "\n",
    "Feature Transformations of Attributes: \\\n",
    "\\\n",
    "**defendant_age $\\in$ {adult, child, unknown}**, where an adult is a defendant with age $\\geq$ 18. \\\n",
    "**gender $\\in$ {male, female}**. \\\n",
    "**num_victims $\\in$ $\\Z^+$**. \\\n",
    "**victim_genders $\\in$ {all male, all female, mixed, none}**. \\\n",
    "**offence_category**, branch for each type of category across all datasets. \\\n",
    "**offence_subcategory** branch for each type of subcategory across all datasets."
   ]
  },
  {
   "cell_type": "markdown",
   "metadata": {},
   "source": [
    "#### Defendent Age Attribute Analysis"
   ]
  },
  {
   "cell_type": "markdown",
   "metadata": {},
   "source": [
    "### Simple Decision Tree"
   ]
  },
  {
   "cell_type": "markdown",
   "metadata": {},
   "source": []
  },
  {
   "cell_type": "markdown",
   "metadata": {},
   "source": [
    "### "
   ]
  }
 ],
 "metadata": {
  "kernelspec": {
   "display_name": "cade_env",
   "language": "python",
   "name": "python3"
  },
  "language_info": {
   "codemirror_mode": {
    "name": "ipython",
    "version": 3
   },
   "file_extension": ".py",
   "mimetype": "text/x-python",
   "name": "python",
   "nbconvert_exporter": "python",
   "pygments_lexer": "ipython3",
   "version": "3.9.7"
  }
 },
 "nbformat": 4,
 "nbformat_minor": 2
}
