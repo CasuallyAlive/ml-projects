{
 "cells": [
  {
   "cell_type": "code",
   "execution_count": 1,
   "metadata": {},
   "outputs": [],
   "source": [
    "import sys\n",
    "sys.path.append('../../../src')\n",
    "\n",
    "import numpy as np\n",
    "import pandas as pd\n",
    "from sklearn import svm\n",
    "from p1.models.utils import get_data_col, get_project_data, get_attr_nums\n",
    "from p1.models.utils import creat_pred_file, calc_acc, normalize\n",
    "\n",
    "%load_ext autoreload\n",
    "%autoreload 2"
   ]
  },
  {
   "cell_type": "markdown",
   "metadata": {},
   "source": [
    "## Data Loading"
   ]
  },
  {
   "cell_type": "code",
   "execution_count": 2,
   "metadata": {},
   "outputs": [],
   "source": [
    "# Get Files\n",
    "data_dir = \"../project_data/data\"\n",
    "labels = [\"guilty\", \"not guilty\"]\n",
    "\n",
    "(_, _, tfidf, misc), Y = get_project_data(opts=[False, False, True, True])"
   ]
  },
  {
   "cell_type": "markdown",
   "metadata": {},
   "source": [
    "## Experiments"
   ]
  },
  {
   "cell_type": "code",
   "execution_count": 3,
   "metadata": {},
   "outputs": [],
   "source": [
    "tfidf_eval, tfidf_test, tfidf_train = (tfidf[i] for i in range(3))\n",
    "misc_train, misc_eval, misc_test = (misc[i] for i in range(3))\n",
    "Y_train, Y_eval, Y_test = (Y[i] for i in range(3))"
   ]
  },
  {
   "cell_type": "code",
   "execution_count": 4,
   "metadata": {},
   "outputs": [],
   "source": [
    "del tfidf, misc, Y"
   ]
  },
  {
   "cell_type": "code",
   "execution_count": 35,
   "metadata": {},
   "outputs": [],
   "source": [
    "X_train = np.column_stack([\n",
    "    tfidf_train.to_numpy(),\n",
    "    get_attr_nums(misc_train, attr_id=\"defendant_age\", uk=\"not known\", unknown='-1')[:,np.newaxis],\n",
    "    # get_data_col(misc_train, \"defendant_gender\"),\n",
    "    get_data_col(misc_train, \"num_victims\")\n",
    "])\n",
    "X_eval = np.column_stack([\n",
    "    tfidf_eval.to_numpy(),\n",
    "    get_attr_nums(misc_eval, attr_id=\"defendant_age\", uk=\"not known\", unknown='-1')[:, np.newaxis],\n",
    "    # get_data_col(misc_eval, \"defendant_gender\"),\n",
    "    get_data_col(misc_eval, \"num_victims\")\n",
    "])\n",
    "X_test = np.column_stack([\n",
    "    tfidf_test.to_numpy(),\n",
    "    get_attr_nums(misc_test, attr_id=\"defendant_age\", uk=\"not known\", unknown='-1')[:, np.newaxis],\n",
    "    # get_data_col(misc_test, \"defendant_gender\"),\n",
    "    get_data_col(misc_test, \"num_victims\")\n",
    "])"
   ]
  },
  {
   "cell_type": "code",
   "execution_count": 36,
   "metadata": {},
   "outputs": [],
   "source": [
    "mask = (X_train[:, -2] >= 18) & (X_train[:, -2] != -1); X_train[mask] = 1.0 # known adults\n",
    "mask = (X_train[:, -2] < 18) & (X_train[:, -2] != -1); X_train[mask] = 1.0 # known children\n",
    "# X_train[X_train == 'male'] = 1.0; X_train[X_train == 'female'] = 0.0; X_train[X_train == 'indeterminate'] = -1\n",
    "# X_train[:, 2] = X_train[:, 2]/X_train[:, 2].max(); X_train = X_train.astype(np.float64)\n",
    "# X_train[:, -1] = normalize(X_train[:, -1]); X_train = X_train.astype(np.float64)\n",
    "# X_train[:, -2] = normalize(X_train[:, -2])\n",
    "X_train = normalize(X_train)\n",
    "# X_train[:, -1] = normalize(X_train[:, -1])\n",
    "\n",
    "mask = (X_eval[:, -2] >= 18) & (X_eval[:, -2] != -1); X_eval[mask] = 1.0 # known adults\n",
    "mask = (X_eval[:, -2] < 18) & (X_eval[:, -2] != -1); X_eval[mask] = 1.0 # known children\n",
    "# X_eval[X_eval == 'male'] = 1.0; X_eval[X_eval == 'female'] = 0.0; X_eval[X_eval == 'indeterminate'] = -1\n",
    "# X_eval[:, 2] = X_eval[:, 2]/X_eval[:, 2].max(); X_eval = X_eval.astype(np.float64)\n",
    "# X_eval[:, -1] = normalize(X_eval[:, -1]); X_eval = X_eval.astype(np.float64)\n",
    "# X_eval[:, -2] = normalize(X_eval[:, -2])\n",
    "X_eval = normalize(X_eval)\n",
    "# X_eval[:, -1] = normalize(X_eval[:, -1])\n",
    "\n",
    "\n",
    "mask = (X_test[:, -2] >= 18) & (X_test[:, -2] != -1); X_test[mask] = 1.0 # known adults\n",
    "mask = (X_test[:, -2] < 18) & (X_test[:, -2] != -1); X_test[mask] = 1.0 # known children\n",
    "# X_test[X_test == 'male'] = 1.0; X_test[X_test == 'female'] = 0.0; X_test[X_test == 'indeterminate'] = -1\n",
    "# X_test[:, 2] = X_test[:, 2]/X_test[:,2].max(); X_test = X_test.astype(np.float64)\n",
    "# X_test[:, -1] = normalize(X_test[:, -1]); X_test = X_test.astype(np.float64)\n",
    "# X_test[:, -2] = normalize(X_test[:, -2])\n",
    "X_test = normalize(X_test)\n",
    "# X_test[:, -1] = normalize(X_test[:, -1])"
   ]
  },
  {
   "cell_type": "markdown",
   "metadata": {},
   "source": [
    "### SVM Training"
   ]
  },
  {
   "cell_type": "code",
   "execution_count": 42,
   "metadata": {},
   "outputs": [
    {
     "name": "stdout",
     "output_type": "stream",
     "text": [
      "0.8146666666666667\n"
     ]
    }
   ],
   "source": [
    "# Train model\n",
    "model = svm.LinearSVC(tol=1e-10, max_iter=int(1e3), C=0.5, dual='auto')\n",
    "model.fit(X_train, Y_train.astype(np.float32))\n",
    "\n",
    "# print test accuracy\n",
    "print(calc_acc(model.predict(X_test), Y_test))"
   ]
  },
  {
   "cell_type": "code",
   "execution_count": 8,
   "metadata": {},
   "outputs": [],
   "source": [
    "# Save pred file\n",
    "creat_pred_file(model.predict(X_eval[:,-2:]), filename=\"final_svm_scikit_misc_JL.csv\")"
   ]
  }
 ],
 "metadata": {
  "kernelspec": {
   "display_name": "cade_env",
   "language": "python",
   "name": "python3"
  },
  "language_info": {
   "codemirror_mode": {
    "name": "ipython",
    "version": 3
   },
   "file_extension": ".py",
   "mimetype": "text/x-python",
   "name": "python",
   "nbconvert_exporter": "python",
   "pygments_lexer": "ipython3",
   "version": "3.10.12"
  }
 },
 "nbformat": 4,
 "nbformat_minor": 2
}
