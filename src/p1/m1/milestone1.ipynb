{
 "cells": [
  {
   "cell_type": "markdown",
   "metadata": {},
   "source": [
    "# Milestone 1"
   ]
  },
  {
   "cell_type": "code",
   "execution_count": 5,
   "metadata": {},
   "outputs": [],
   "source": [
    "import sys\n",
    "sys.path.append('../../../src')\n",
    "\n",
    "import numpy as np\n",
    "import pandas as pd\n",
    "import glob, os\n",
    "from matplotlib import pyplot as plt\n",
    "from p1.models.utils import get_divided_data, get_data_comp, get_common_label, creat_pred_file\n",
    "\n",
    "%load_ext autoreload\n",
    "%autoreload 2"
   ]
  },
  {
   "cell_type": "markdown",
   "metadata": {},
   "source": [
    "Data Loading"
   ]
  },
  {
   "cell_type": "code",
   "execution_count": 12,
   "metadata": {},
   "outputs": [
    {
     "name": "stdout",
     "output_type": "stream",
     "text": [
      "bag-of-words\n",
      "/home/casuallyalive/repos/ml-projects/src/p1/m1/../project_data/data/bag-of-words/bow.eval.anon.csv\n",
      "/home/casuallyalive/repos/ml-projects/src/p1/m1/../project_data/data/bag-of-words/bow.test.csv\n",
      "/home/casuallyalive/repos/ml-projects/src/p1/m1/../project_data/data/bag-of-words/bow.train.csv\n",
      "tfidf\n",
      "/home/casuallyalive/repos/ml-projects/src/p1/m1/../project_data/data/tfidf/tfidf.eval.anon.csv\n",
      "/home/casuallyalive/repos/ml-projects/src/p1/m1/../project_data/data/tfidf/tfidf.test.csv\n",
      "/home/casuallyalive/repos/ml-projects/src/p1/m1/../project_data/data/tfidf/tfidf.train.csv\n",
      "eval.ids\n",
      "misc\n",
      "/home/casuallyalive/repos/ml-projects/src/p1/m1/../project_data/data/misc/misc-attributes-test.csv\n",
      "/home/casuallyalive/repos/ml-projects/src/p1/m1/../project_data/data/misc/misc-attributes-eval.csv\n",
      "/home/casuallyalive/repos/ml-projects/src/p1/m1/../project_data/data/misc/misc-attributes-train.csv\n",
      "glove\n",
      "/home/casuallyalive/repos/ml-projects/src/p1/m1/../project_data/data/glove/glove.train.csv\n",
      "/home/casuallyalive/repos/ml-projects/src/p1/m1/../project_data/data/glove/glove.eval.anon.csv\n",
      "/home/casuallyalive/repos/ml-projects/src/p1/m1/../project_data/data/glove/glove.test.csv\n"
     ]
    }
   ],
   "source": [
    "# Get Files\n",
    "data_dir = \"../project_data/data\"\n",
    "data_dir_dict = dict()\n",
    "for folder in os.listdir(data_dir):\n",
    "    # print(folder)\n",
    "    data_dir_dict[folder] = list()\n",
    "    for file_name in glob.glob(f\"{data_dir}/{folder}/*.csv\"):\n",
    "        # prprint(bag_of_words_k_folds)int(file_name)\n",
    "        data_dir_dict[folder].append(os.path.abspath(\"./\") + \"/\" + file_name)\n",
    "        # print(os.path.abspath(\"./\") + \"/\" + file_name)\n",
    "\n",
    "# eval, test, train"
   ]
  },
  {
   "cell_type": "code",
   "execution_count": 13,
   "metadata": {},
   "outputs": [],
   "source": [
    "# Load \"bag-of-words\" data\n",
    "bag_of_words_eval_data = pd.read_csv(data_dir_dict[\"bag-of-words\"][0])\n",
    "bag_of_words_test_data = pd.read_csv(data_dir_dict[\"bag-of-words\"][1])\n",
    "bag_of_words_train_data = pd.read_csv(data_dir_dict[\"bag-of-words\"][2])"
   ]
  },
  {
   "cell_type": "code",
   "execution_count": 19,
   "metadata": {},
   "outputs": [
    {
     "name": "stdout",
     "output_type": "stream",
     "text": [
      "3500\n"
     ]
    }
   ],
   "source": [
    "# Derive K-folds\n",
    "bag_of_words_k_folds = get_divided_data(bag_of_words_train_data)"
   ]
  },
  {
   "cell_type": "code",
   "execution_count": 41,
   "metadata": {},
   "outputs": [
    {
     "name": "stdout",
     "output_type": "stream",
     "text": [
      "(True, 5250)\n"
     ]
    }
   ],
   "source": [
    "# Print Common Label\n",
    "labels = {True:1, False:0}\n",
    "BOW_eval_x, BOW_eval_y = get_data_comp(bag_of_words_eval_data, labels=list(labels.values()))\n",
    "print(get_common_label(BOW_eval_y))"
   ]
  },
  {
   "cell_type": "code",
   "execution_count": 42,
   "metadata": {},
   "outputs": [],
   "source": [
    "# Classifier that assumes a normaal distribution (heavily favors not guilty)\n",
    "pred = (np.random.randn(len(BOW_eval_y)) -0.5) >= 0.0\n",
    "pred = pred.astype(np.int64)"
   ]
  },
  {
   "cell_type": "code",
   "execution_count": 40,
   "metadata": {},
   "outputs": [],
   "source": [
    "# Save to file\n",
    "creat_pred_file(pred, \"m1_JL.csv\")"
   ]
  }
 ],
 "metadata": {
  "kernelspec": {
   "display_name": "cade_env",
   "language": "python",
   "name": "python3"
  },
  "language_info": {
   "codemirror_mode": {
    "name": "ipython",
    "version": 3
   },
   "file_extension": ".py",
   "mimetype": "text/x-python",
   "name": "python",
   "nbconvert_exporter": "python",
   "pygments_lexer": "ipython3",
   "version": "3.9.7"
  }
 },
 "nbformat": 4,
 "nbformat_minor": 2
}
