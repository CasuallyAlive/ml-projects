{
 "cells": [
  {
   "cell_type": "markdown",
   "metadata": {},
   "source": [
    "# Algorithm and Experiments Report"
   ]
  },
  {
   "cell_type": "code",
   "execution_count": 11,
   "metadata": {},
   "outputs": [
    {
     "name": "stdout",
     "output_type": "stream",
     "text": [
      "The autoreload extension is already loaded. To reload it, use:\n",
      "  %reload_ext autoreload\n"
     ]
    }
   ],
   "source": [
    "import utils as ul\n",
    "import numpy as np\n",
    "from perceptron import Perceptron\n",
    "%load_ext autoreload\n",
    "%autoreload 2"
   ]
  },
  {
   "cell_type": "markdown",
   "metadata": {},
   "source": [
    "**Function Definitions**"
   ]
  },
  {
   "cell_type": "code",
   "execution_count": null,
   "metadata": {},
   "outputs": [],
   "source": []
  },
  {
   "cell_type": "markdown",
   "metadata": {},
   "source": [
    "## 4 - The Perceptron Algorithm and its Variants"
   ]
  },
  {
   "cell_type": "markdown",
   "metadata": {},
   "source": [
    "For this question, you will experiment with the Perceptron algorithm and some variants on\n",
    "a data set."
   ]
  },
  {
   "cell_type": "markdown",
   "metadata": {},
   "source": [
    "### 4.1 - The task and data"
   ]
  },
  {
   "cell_type": "code",
   "execution_count": 12,
   "metadata": {},
   "outputs": [],
   "source": [
    "labels = {True:1, False:-1}\n",
    "\n",
    "x_dev, y_dev, data_dev = ul.load_data(list(labels.values()), dir=r'data/diabetes.dev.csv')\n",
    "x_train, y_train, data_train = ul.load_data(list(labels.values()), dir=r'data/diabetes.train.csv')\n",
    "x_test, y_test, data_test = ul.load_data(list(labels.values()), dir=r'data/diabetes.test.csv')"
   ]
  },
  {
   "cell_type": "markdown",
   "metadata": {},
   "source": [
    "### 4.2 - Algorithms"
   ]
  },
  {
   "cell_type": "markdown",
   "metadata": {},
   "source": [
    "You will implement several variants of the Perceptron algorithm. Note that each variant has\n",
    "different hyper-parameters, as described below. Use 5-fold cross-validation to identify the\n",
    "best hyper-parameters as you did in the previous homework. To help with this, we have split\n",
    "the training set into five parts train0.data.csv–train4.data.csv in the folder CVSplits."
   ]
  },
  {
   "cell_type": "markdown",
   "metadata": {},
   "source": [
    "#### 1. Simple Perceptron: \n",
    "Implement the simple batch version of Perceptron as described in the class. Use a fixed learning rate η chosen from {1, 0.1, 0.01}. An update will be performed on an example (x, y) if y(wT x + b) < 0 as:\n",
    "$$\n",
    "\\textbf{w} \\leftarrow \\textbf{w} + \\eta y \\textbf{x}\n",
    "$$,\n",
    "$$\n",
    "b \\leftarrow b + \\eta y\n",
    "$$.\n",
    "$\\textbf{Hyper-parameter:}$ Learning rate $\\eta\\in\\{1,0.1,0.01\\}$\n",
    "Two things bear additional explanation. "
   ]
  },
  {
   "cell_type": "markdown",
   "metadata": {},
   "source": [
    "##### 1.a \n",
    "First, note that in the formulation above, the bias term $b$ is explicitly mentioned. This is because the features in the data do not include a bias feature. Of course, you could choose to add an additional constant feature to each example and not have the explicit extra $b$ during learning. (See the class lectures for more information.) However, here, we will see the version of Perceptron that explicitly has the bias term."
   ]
  },
  {
   "cell_type": "code",
   "execution_count": 42,
   "metadata": {},
   "outputs": [
    {
     "data": {
      "text/plain": [
       "0.6616915422885572"
      ]
     },
     "execution_count": 42,
     "metadata": {},
     "output_type": "execute_result"
    }
   ],
   "source": [
    "model = Perceptron(labels=labels)\n",
    "model.train(x_train, y_train, r=0.001)\n",
    "ul.calc_acc(model.predict(x_test), y_test)"
   ]
  }
 ],
 "metadata": {
  "kernelspec": {
   "display_name": "cade_env",
   "language": "python",
   "name": "python3"
  },
  "language_info": {
   "codemirror_mode": {
    "name": "ipython",
    "version": 3
   },
   "file_extension": ".py",
   "mimetype": "text/x-python",
   "name": "python",
   "nbconvert_exporter": "python",
   "pygments_lexer": "ipython3",
   "version": "3.9.7"
  }
 },
 "nbformat": 4,
 "nbformat_minor": 2
}
