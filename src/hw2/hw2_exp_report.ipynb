{
 "cells": [
  {
   "cell_type": "markdown",
   "metadata": {},
   "source": [
    "# Algorithm and Experiments Report"
   ]
  },
  {
   "cell_type": "code",
   "execution_count": 88,
   "metadata": {},
   "outputs": [
    {
     "name": "stdout",
     "output_type": "stream",
     "text": [
      "The autoreload extension is already loaded. To reload it, use:\n",
      "  %reload_ext autoreload\n"
     ]
    }
   ],
   "source": [
    "import utils as ul\n",
    "import numpy as np\n",
    "import pandas as pd\n",
    "from matplotlib import pyplot as plt\n",
    "from perceptron import Perceptron\n",
    "\n",
    "pd.options.mode.chained_assignment = None  # default='warn'\n",
    "\n",
    "%load_ext autoreload\n",
    "%autoreload 2"
   ]
  },
  {
   "cell_type": "markdown",
   "metadata": {},
   "source": [
    "## 4 - The Perceptron Algorithm and its Variants"
   ]
  },
  {
   "cell_type": "markdown",
   "metadata": {},
   "source": [
    "For this question, you will experiment with the Perceptron algorithm and some variants on\n",
    "a data set."
   ]
  },
  {
   "cell_type": "markdown",
   "metadata": {},
   "source": [
    "### 4.1 - The task and data"
   ]
  },
  {
   "cell_type": "code",
   "execution_count": 4,
   "metadata": {},
   "outputs": [],
   "source": [
    "labels = {True:1, False:-1}\n",
    "\n",
    "x_dev, y_dev, data_dev = ul.load_data(list(labels.values()), dir=r'data/diabetes.dev.csv')\n",
    "x_train, y_train, data_train = ul.load_data(list(labels.values()), dir=r'data/diabetes.train.csv')\n",
    "x_test, y_test, data_test = ul.load_data(list(labels.values()), dir=r'data/diabetes.test.csv')"
   ]
  },
  {
   "cell_type": "markdown",
   "metadata": {},
   "source": [
    "### 4.2 & 4.3 - Algorithms and Experiments"
   ]
  },
  {
   "cell_type": "markdown",
   "metadata": {},
   "source": [
    "You will implement several variants of the Perceptron algorithm. Note that each variant has\n",
    "different hyper-parameters, as described below. Use 5-fold cross-validation to identify the\n",
    "best hyper-parameters as you did in the previous homework. To help with this, we have split\n",
    "the training set into five parts train0.data.csv–train4.data.csv in the folder CVSplits."
   ]
  },
  {
   "cell_type": "code",
   "execution_count": 81,
   "metadata": {},
   "outputs": [],
   "source": [
    "epochs_a, epochs_b = 10, 20\n",
    "k_datasets = [ul.load_data(list(labels.values()), dir=f'./data/CVSplits/train{k}.csv')[2] for k in range(5)]"
   ]
  },
  {
   "cell_type": "markdown",
   "metadata": {},
   "source": [
    "#### 1. Simple Perceptron: \n",
    "Implement the simple batch version of Perceptron as described in the class. Use a fixed learning rate η chosen from {1, 0.1, 0.01}. An update will be performed on an example (x, y) if y(wT x + b) < 0 as:\n",
    "$$\n",
    "\\textbf{w} \\leftarrow \\textbf{w} + \\eta y \\textbf{x}\n",
    "$$,\n",
    "$$\n",
    "b \\leftarrow b + \\eta y\n",
    "$$.\n",
    "$\\textbf{Hyper-parameter:}$ Learning rate $\\eta\\in\\{1,0.1,0.01\\}$\n",
    "Two things bear additional explanation. "
   ]
  },
  {
   "cell_type": "code",
   "execution_count": 77,
   "metadata": {},
   "outputs": [],
   "source": [
    "l_rates = [1, 0.1, 0.01]\n",
    "hps = ul.get_hp_combs(l_rates, [0]).tolist() # hyperameter combinations\n",
    "\n",
    "baseline_update_func = Perceptron.update_base_fnc # Simple Perceptron\n",
    "lr_update_func = Perceptron.lr_base_fnc # lr does not change"
   ]
  },
  {
   "cell_type": "markdown",
   "metadata": {},
   "source": [
    "##### 1.a - Below is the FF-CV experiment for the Simple Perceptron."
   ]
  },
  {
   "cell_type": "code",
   "execution_count": 80,
   "metadata": {},
   "outputs": [
    {
     "name": "stdout",
     "output_type": "stream",
     "text": [
      "Accuracy statistics from five-fold cross-validation:\n",
      "\n",
      "learning rate 'r' \t| five-fold mean | five-fold std\n",
      "r=1.0\t\t\t| 0.543\t\t | 0.09\n",
      "r=0.1\t\t\t| 0.641\t\t | 0.056\n",
      "r=0.01\t\t\t| 0.656\t\t | 0.053\n"
     ]
    }
   ],
   "source": [
    "cvv_stats, cvv_acc = ul.five_fold_CV(\n",
    "    k_datasets, labels, hyperparams=hps, e=epochs_a, \n",
    "    update_fnc=baseline_update_func, lr_fnc=lr_update_func\n",
    "    )\n",
    "\n",
    "print(\"Accuracy statistics from five-fold cross-validation:\\n\")\n",
    "print(\"learning rate 'r' \\t| five-fold mean | five-fold std\")\n",
    "for (r, mu), (mean, std) in cvv_stats.items():\n",
    "    print(f\"r={r}\\t\\t\\t| {np.round(mean, 3)}\\t\\t | {np.round(std, 3)}\")\n"
   ]
  },
  {
   "cell_type": "markdown",
   "metadata": {},
   "source": [
    "Results: I ran the FF-CV experiment multiple times and r=0.01 consistently had the best mean accuracies and lowest standard deviation. For the report, mean and std at r=0.01 were 0.656 and 0.053 respectively."
   ]
  },
  {
   "cell_type": "markdown",
   "metadata": {},
   "source": [
    "##### 1.b - The cross-validation accuracy for the best hyperparameter "
   ]
  },
  {
   "cell_type": "markdown",
   "metadata": {},
   "source": [
    "Results: As stated above, the FF-CV accuracy for the best hyperparameters was 65.6%."
   ]
  },
  {
   "cell_type": "markdown",
   "metadata": {},
   "source": [
    "##### 1.c-1.e - The total number of updates the learning algorithm performs on the training set"
   ]
  },
  {
   "cell_type": "code",
   "execution_count": 95,
   "metadata": {},
   "outputs": [
    {
     "name": "stdout",
     "output_type": "stream",
     "text": [
      "1.c - The total number of updates performed by the simple perceptron at r=0.01: 6034.\n",
      "1.d - The maximum accuracy on the dev dataset: 0.72. Obtained by classifier derived at epoch: 16.\n",
      "1.e - The test accuracy by the classifier w/ the best dev dataset performance was 0.76.\n"
     ]
    }
   ],
   "source": [
    "r = 0.01\n",
    "model = Perceptron(labels)\n",
    "update_count, train_acc_ls = model.train(data_train, epochs=epochs_b, r=r, dev_data=data_dev)\n",
    "\n",
    "# Getting the classifier with the best accuracy.\n",
    "(best_idx, (best_acc, best_classifier)) = max(train_acc_ls.items(), key=lambda x : x[1][0])\n",
    "best_model = Perceptron(labels, model=(best_classifier, None))\n",
    "best_test_acc = round(best_model.calc_acc(x_test, y_test),2)\n",
    "\n",
    "print(f\"1.c - The total number of updates performed by the simple perceptron at r=0.01: {update_count}.\")\n",
    "print(f\"1.d - The maximum accuracy on the dev dataset: {best_acc}. Obtained by classifier derived at epoch: {best_idx}.\")\n",
    "print(f\"1.e - The test accuracy by the classifier w/ the best dev dataset performance was {best_test_acc}.\")"
   ]
  },
  {
   "cell_type": "markdown",
   "metadata": {},
   "source": [
    "##### 1.f - Training Plot"
   ]
  },
  {
   "cell_type": "code",
   "execution_count": 104,
   "metadata": {},
   "outputs": [
    {
     "data": {
      "image/png": "[encoded data removed]",
      "text/plain": [
       "<Figure size 720x360 with 1 Axes>"
      ]
     },
     "metadata": {
      "needs_background": "light"
     },
     "output_type": "display_data"
    }
   ],
   "source": [
    "# Need to run the section above before running this block\n",
    "dev_accs = np.array([acc for _, (acc, _) in train_acc_ls.items()])\n",
    "x_accs = np.arange(epochs_b)\n",
    "fig = plt.figure(figsize=[10, 5])\n",
    "\n",
    "plt.plot(x_accs, dev_accs); plt.title(\"Simple Perceptron Accuracy on Dev Dataset\")\n",
    "plt.xlabel(\"Epoch ID\"); plt.ylabel(\"Accuracy\")\n",
    "plt.ylim([min(dev_accs), max(dev_accs)+0.1])\n",
    "plt.plot(x_accs, np.ones_like(x_accs)*best_acc, 'k')\n",
    "plt.plot(np.ones_like(x_accs)*best_idx, np.linspace(0.5, 1, epochs_b), 'k')\n",
    "plt.show()"
   ]
  },
  {
   "cell_type": "markdown",
   "metadata": {},
   "source": [
    "#### 2. Decaying the learning rate  "
   ]
  },
  {
   "cell_type": "code",
   "execution_count": 185,
   "metadata": {},
   "outputs": [],
   "source": [
    "l_rates = [1, 0.1, 0.01]\n",
    "hps = ul.get_hp_combs(l_rates, [0]).tolist() # hyperameter combinations\n",
    "\n",
    "baseline_update_func = Perceptron.update_base_fnc # Simple Perceptron\n",
    "lr_update_func = Perceptron.lr_decay_fnc # Use lr decay"
   ]
  },
  {
   "cell_type": "markdown",
   "metadata": {},
   "source": [
    "##### 2.a - Below is the FF-CV experiment for the Simple Perceptron w/ decaying learning rate."
   ]
  },
  {
   "cell_type": "code",
   "execution_count": 190,
   "metadata": {},
   "outputs": [
    {
     "name": "stdout",
     "output_type": "stream",
     "text": [
      "Accuracy statistics from five-fold cross-validation:\n",
      "\n",
      "learning rate 'r' \t| five-fold mean | five-fold std\n",
      "r=1.0\t\t\t| 0.649\t\t | 0.046\n",
      "r=0.1\t\t\t| 0.636\t\t | 0.055\n",
      "r=0.01\t\t\t| 0.665\t\t | 0.028\n"
     ]
    }
   ],
   "source": [
    "cvv_stats, cvv_acc = ul.five_fold_CV(\n",
    "    k_datasets, labels, hyperparams=hps, e=epochs_a, \n",
    "    update_fnc=baseline_update_func, lr_fnc=lr_update_func\n",
    "    )\n",
    "\n",
    "print(\"Accuracy statistics from five-fold cross-validation:\\n\")\n",
    "print(\"learning rate 'r' \\t| five-fold mean | five-fold std\")\n",
    "for (r, mu), (mean, std) in cvv_stats.items():\n",
    "    print(f\"r={r}\\t\\t\\t| {np.round(mean, 3)}\\t\\t | {np.round(std, 3)}\")\n"
   ]
  },
  {
   "cell_type": "markdown",
   "metadata": {},
   "source": [
    "Results: I ran the FF-CV experiment multiple times and got the best results w/ r=0.01 since it consistently had the best mean accuracies and lowest standard deviation. For the report, mean and std at r=0.01 were 0.665 and 0.028 respectively."
   ]
  },
  {
   "cell_type": "markdown",
   "metadata": {},
   "source": [
    "##### 2.b - The cross-validation accuracy for the best hyperparameter "
   ]
  },
  {
   "cell_type": "markdown",
   "metadata": {},
   "source": [
    "Results: As stated above, the FF-CV accuracy for the best hyperparameters was 66.5%."
   ]
  },
  {
   "cell_type": "markdown",
   "metadata": {},
   "source": [
    "##### 2.c-2.e - The total number of updates the learning algorithm performs on the training set"
   ]
  },
  {
   "cell_type": "code",
   "execution_count": 194,
   "metadata": {},
   "outputs": [
    {
     "name": "stdout",
     "output_type": "stream",
     "text": [
      "2.c - The total number of updates performed by the simple perceptron at r=0.01: 4738.\n",
      "2.d - The maximum accuracy on the dev dataset: 0.745. Obtained by classifier derived at epoch: 6.\n",
      "2.e - The test accuracy by the classifier w/ the best dev dataset performance was 0.73.\n"
     ]
    }
   ],
   "source": [
    "r = 0.01\n",
    "model = Perceptron(labels, lr_fnc=lr_update_func)\n",
    "update_count, train_acc_ls = model.train(data_train, epochs=epochs_b, r=r, dev_data=data_dev)\n",
    "\n",
    "# Getting the classifier with the best accuracy.\n",
    "(best_idx, (best_acc, best_classifier)) = max(train_acc_ls.items(), key=lambda x : x[1][0])\n",
    "best_model = Perceptron(labels, model=(best_classifier, None))\n",
    "best_test_acc = round(best_model.calc_acc(x_test, y_test),2)\n",
    "\n",
    "print(f\"2.c - The total number of updates performed by the simple perceptron at r=0.01: {update_count}.\")\n",
    "print(f\"2.d - The maximum accuracy on the dev dataset: {best_acc}. Obtained by classifier derived at epoch: {best_idx}.\")\n",
    "print(f\"2.e - The test accuracy by the classifier w/ the best dev dataset performance was {best_test_acc}.\")"
   ]
  },
  {
   "cell_type": "markdown",
   "metadata": {},
   "source": [
    "##### 2.f - Training Plot"
   ]
  },
  {
   "cell_type": "code",
   "execution_count": 195,
   "metadata": {},
   "outputs": [
    {
     "data": {
      "image/png": "[encoded data removed]",
      "text/plain": [
       "<Figure size 720x360 with 1 Axes>"
      ]
     },
     "metadata": {
      "needs_background": "light"
     },
     "output_type": "display_data"
    }
   ],
   "source": [
    "# Need to run the section above before running this block\n",
    "dev_accs = np.array([acc for _, (acc, _) in train_acc_ls.items()])\n",
    "x_accs = np.arange(epochs_b)\n",
    "fig = plt.figure(figsize=[10, 5])\n",
    "\n",
    "plt.plot(x_accs, dev_accs); plt.title(\"Simple Perceptron w/ Decaying LR Accuracy on Dev Dataset\")\n",
    "plt.xlabel(\"Epoch ID\"); plt.ylabel(\"Accuracy\")\n",
    "plt.ylim([min(dev_accs), max(dev_accs)+0.1])\n",
    "plt.plot(x_accs, np.ones_like(x_accs)*best_acc, 'k')\n",
    "plt.plot(np.ones_like(x_accs)*best_idx, np.linspace(0.5, 1, epochs_b), 'k')\n",
    "plt.show()"
   ]
  },
  {
   "cell_type": "markdown",
   "metadata": {},
   "source": [
    "#### 3. Margin Perceptron"
   ]
  },
  {
   "cell_type": "code",
   "execution_count": 196,
   "metadata": {},
   "outputs": [],
   "source": [
    "l_rates = [1, 0.1, 0.01]; mu = [1, 0.1, 0.01]\n",
    "hps = ul.get_hp_combs(l_rates, mu).tolist() # hyperameter combinations\n",
    "\n",
    "margin_update_func = Perceptron.update_margin_fnc # Simple Perceptron\n",
    "lr_update_func = Perceptron.lr_decay_fnc"
   ]
  },
  {
   "cell_type": "markdown",
   "metadata": {},
   "source": [
    "##### 3.a - Below is the FF-CV experiment for the Margin Perceptron."
   ]
  },
  {
   "cell_type": "code",
   "execution_count": 199,
   "metadata": {},
   "outputs": [
    {
     "name": "stdout",
     "output_type": "stream",
     "text": [
      "Accuracy statistics from five-fold cross-validation:\n",
      "\n",
      "learning rate 'r' \t| mu\t\t| five-fold mean | five-fold std\n",
      "r=1.0\t\t\t| mu=1.0\t| 0.664\t\t | 0.036\n",
      "r=0.1\t\t\t| mu=1.0\t| 0.659\t\t | 0.054\n",
      "r=0.01\t\t\t| mu=1.0\t| 0.648\t\t | 0.054\n",
      "r=1.0\t\t\t| mu=0.1\t| 0.684\t\t | 0.031\n",
      "r=0.1\t\t\t| mu=0.1\t| 0.657\t\t | 0.037\n",
      "r=0.01\t\t\t| mu=0.1\t| 0.663\t\t | 0.043\n",
      "r=1.0\t\t\t| mu=0.01\t| 0.657\t\t | 0.032\n",
      "r=0.1\t\t\t| mu=0.01\t| 0.677\t\t | 0.029\n",
      "r=0.01\t\t\t| mu=0.01\t| 0.647\t\t | 0.048\n"
     ]
    }
   ],
   "source": [
    "cvv_stats, cvv_acc = ul.five_fold_CV(\n",
    "    k_datasets, labels, hyperparams=hps, e=epochs_a, \n",
    "    update_fnc=margin_update_func, lr_fnc=lr_update_func\n",
    "    )\n",
    "\n",
    "print(\"Accuracy statistics from five-fold cross-validation:\\n\")\n",
    "print(\"learning rate 'r' \\t| mu\\t\\t| five-fold mean | five-fold std\")\n",
    "for (r, mu), (mean, std) in cvv_stats.items():\n",
    "    print(f\"r={r}\\t\\t\\t| mu={mu}\\t| {np.round(mean, 3)}\\t\\t | {np.round(std, 3)}\")\n"
   ]
  },
  {
   "cell_type": "markdown",
   "metadata": {},
   "source": [
    "Results: I ran the FF-CV experiment a few times and hyperparameters r=0.1 and mu = 0.01 consistently had the best mean accuracies and lowest standard deviation. For the report, mean and std at the best hyperparameters were 0.677 and 0.029 respectively."
   ]
  },
  {
   "cell_type": "markdown",
   "metadata": {},
   "source": [
    "##### 3.b - The cross-validation accuracy for the best hyperparameter "
   ]
  },
  {
   "cell_type": "markdown",
   "metadata": {},
   "source": [
    "Results: As stated above, the FF-CV accuracy for the best hyperparameters was 67.7%."
   ]
  },
  {
   "cell_type": "markdown",
   "metadata": {},
   "source": [
    "##### 3.c-3.e - The total number of updates the learning algorithm performs on the training set"
   ]
  },
  {
   "cell_type": "code",
   "execution_count": 201,
   "metadata": {},
   "outputs": [
    {
     "name": "stdout",
     "output_type": "stream",
     "text": [
      "3.c - The total number of updates performed by the margin perceptron at r=0.1 and mu=0.01: 5082.\n",
      "3.d - The maximum accuracy on the dev dataset: 0.75. Obtained by classifier derived at epoch: 18.\n",
      "3.e - The test accuracy by the classifier w/ the best dev dataset performance was 0.71.\n"
     ]
    }
   ],
   "source": [
    "r = 0.1; mu = 0.01\n",
    "model = Perceptron(labels, update_fnc=margin_update_func, lr_fnc=lr_update_func)\n",
    "update_count, train_acc_ls = model.train(data_train, epochs=epochs_b, r=r, mu=mu, dev_data=data_dev)\n",
    "\n",
    "# Getting the classifier with the best accuracy.\n",
    "(best_idx, (best_acc, best_classifier)) = max(train_acc_ls.items(), key=lambda x : x[1][0])\n",
    "best_model = Perceptron(labels, model=(best_classifier, None))\n",
    "best_test_acc = round(best_model.calc_acc(x_test, y_test),2)\n",
    "\n",
    "print(f\"3.c - The total number of updates performed by the margin perceptron at r=0.1 and mu=0.01: {update_count}.\")\n",
    "print(f\"3.d - The maximum accuracy on the dev dataset: {best_acc}. Obtained by classifier derived at epoch: {best_idx}.\")\n",
    "print(f\"3.e - The test accuracy by the classifier w/ the best dev dataset performance was {best_test_acc}.\")"
   ]
  },
  {
   "cell_type": "markdown",
   "metadata": {},
   "source": [
    "##### 3.f - Training Plot"
   ]
  },
  {
   "cell_type": "code",
   "execution_count": 202,
   "metadata": {},
   "outputs": [
    {
     "data": {
      "image/png": "[encoded data removed]",
      "text/plain": [
       "<Figure size 720x360 with 1 Axes>"
      ]
     },
     "metadata": {
      "needs_background": "light"
     },
     "output_type": "display_data"
    }
   ],
   "source": [
    "# Need to run the section above before running this block\n",
    "dev_accs = np.array([acc for _, (acc, _) in train_acc_ls.items()])\n",
    "x_accs = np.arange(epochs_b)\n",
    "fig = plt.figure(figsize=[10, 5])\n",
    "\n",
    "plt.plot(x_accs, dev_accs); plt.title(\"Margin Perceptron Accuracy on Dev Dataset\")\n",
    "plt.xlabel(\"Epoch ID\"); plt.ylabel(\"Accuracy\")\n",
    "plt.ylim([min(dev_accs), max(dev_accs)+0.1])\n",
    "plt.plot(x_accs, np.ones_like(x_accs)*best_acc, 'k')\n",
    "plt.plot(np.ones_like(x_accs)*best_idx, np.linspace(0.5, 1, epochs_b), 'k')\n",
    "plt.show()"
   ]
  },
  {
   "cell_type": "markdown",
   "metadata": {},
   "source": [
    "#### 4. Averaged Perceptron "
   ]
  },
  {
   "cell_type": "code",
   "execution_count": 203,
   "metadata": {},
   "outputs": [],
   "source": [
    "l_rates = [1, 0.1, 0.01]\n",
    "hps = ul.get_hp_combs(l_rates, [0]).tolist() # hyperameter combinations\n",
    "\n",
    "averaged_update_func = Perceptron.update_averaged_fnc # averaged Perceptron\n",
    "lr_update_func = Perceptron.lr_decay_fnc # using decaying lr"
   ]
  },
  {
   "cell_type": "markdown",
   "metadata": {},
   "source": [
    "##### 4.a - Below is the FF-CV experiment for the Averaged Perceptron."
   ]
  },
  {
   "cell_type": "code",
   "execution_count": 204,
   "metadata": {},
   "outputs": [
    {
     "name": "stdout",
     "output_type": "stream",
     "text": [
      "Accuracy statistics from five-fold cross-validation:\n",
      "\n",
      "learning rate 'r' \t| five-fold mean | five-fold std\n",
      "r=1.0\t\t\t| 0.656\t\t | 0.045\n",
      "r=0.1\t\t\t| 0.617\t\t | 0.088\n",
      "r=0.01\t\t\t| 0.681\t\t | 0.029\n"
     ]
    }
   ],
   "source": [
    "cvv_stats, cvv_acc = ul.five_fold_CV(\n",
    "    k_datasets, labels, hyperparams=hps, e=epochs_b, \n",
    "    update_fnc=averaged_update_func, lr_fnc=lr_update_func\n",
    "    )\n",
    "\n",
    "print(\"Accuracy statistics from five-fold cross-validation:\\n\")\n",
    "print(\"learning rate 'r' \\t| five-fold mean | five-fold std\")\n",
    "for (r, mu), (mean, std) in cvv_stats.items():\n",
    "    print(f\"r={r}\\t\\t\\t| {np.round(mean, 3)}\\t\\t | {np.round(std, 3)}\")\n"
   ]
  },
  {
   "cell_type": "markdown",
   "metadata": {},
   "source": [
    "Results: I ran the FF-CV experiment multiple times and r=0.01 consistently had the best mean accuracies and lowest standard deviation. For the report, mean and std at r=0.01 were 0.681 and 0.029 respectively."
   ]
  },
  {
   "cell_type": "markdown",
   "metadata": {},
   "source": [
    "##### 4.b - The cross-validation accuracy for the best hyperparameter "
   ]
  },
  {
   "cell_type": "markdown",
   "metadata": {},
   "source": [
    "Results: As stated above, the FF-CV accuracy for the best hyperparameters was 68.1%."
   ]
  },
  {
   "cell_type": "markdown",
   "metadata": {},
   "source": [
    "##### 4.c-4.e - The total number of updates the learning algorithm performs on the training set"
   ]
  },
  {
   "cell_type": "code",
   "execution_count": 213,
   "metadata": {},
   "outputs": [
    {
     "name": "stdout",
     "output_type": "stream",
     "text": [
      "4.c - The total number of updates performed by the averaged perceptron at r=0.01: 4673.\n",
      "4.d - The maximum accuracy on the dev dataset: 0.77. Obtained by classifier derived at epoch: 11.\n",
      "4.e - The test accuracy by the classifier w/ the best dev dataset performance was 0.75.\n"
     ]
    }
   ],
   "source": [
    "r = 0.01\n",
    "model = Perceptron(labels, update_fnc=averaged_update_func, lr_fnc=lr_update_func)\n",
    "update_count, train_acc_ls = model.train(data_train, epochs=epochs_b, r=r, dev_data=data_dev)\n",
    "\n",
    "# Getting the classifier with the best accuracy.\n",
    "(best_idx, (best_acc, best_classifier)) = max(train_acc_ls.items(), key=lambda x : x[1][0])\n",
    "best_model = Perceptron(labels, model=(best_classifier, None))\n",
    "best_test_acc = round(best_model.calc_acc(x_test, y_test),2)\n",
    "\n",
    "print(f\"4.c - The total number of updates performed by the averaged perceptron at r=0.01: {update_count}.\")\n",
    "print(f\"4.d - The maximum accuracy on the dev dataset: {best_acc}. Obtained by classifier derived at epoch: {best_idx}.\")\n",
    "print(f\"4.e - The test accuracy by the classifier w/ the best dev dataset performance was {best_test_acc}.\")"
   ]
  },
  {
   "cell_type": "markdown",
   "metadata": {},
   "source": [
    "##### 4.f - Training Plot"
   ]
  },
  {
   "cell_type": "code",
   "execution_count": 214,
   "metadata": {},
   "outputs": [
    {
     "data": {
      "image/png": "[encoded data removed]",
      "text/plain": [
       "<Figure size 720x360 with 1 Axes>"
      ]
     },
     "metadata": {
      "needs_background": "light"
     },
     "output_type": "display_data"
    }
   ],
   "source": [
    "# Need to run the section above before running this block\n",
    "dev_accs = np.array([acc for _, (acc, _) in train_acc_ls.items()])\n",
    "x_accs = np.arange(epochs_b)\n",
    "fig = plt.figure(figsize=[10, 5])\n",
    "\n",
    "plt.plot(x_accs, dev_accs); plt.title(\"Averaged Perceptron Accuracy on Dev Dataset\")\n",
    "plt.xlabel(\"Epoch ID\"); plt.ylabel(\"Accuracy\")\n",
    "plt.ylim([min(dev_accs), max(dev_accs)+0.1])\n",
    "plt.plot(x_accs, np.ones_like(x_accs)*best_acc, 'k')\n",
    "plt.plot(np.ones_like(x_accs)*best_idx, np.linspace(0.5, 1, epochs_b), 'k')\n",
    "plt.show()"
   ]
  },
  {
   "cell_type": "markdown",
   "metadata": {},
   "source": [
    "#### 5. Aggressive Perceptron with Margin"
   ]
  },
  {
   "cell_type": "code",
   "execution_count": 215,
   "metadata": {},
   "outputs": [],
   "source": [
    "mu = [1, 0.1, 0.01]\n",
    "hps = ul.get_hp_combs([0], mu).tolist() # hyperameter combinations\n",
    "\n",
    "aggr_margin_update_func = Perceptron.update_aggr_margin_fnc # Aggressive Margin Perceptron.\n",
    "lr_update_func = Perceptron.lr_opt_fnc # Use the optimization function for learning rate update"
   ]
  },
  {
   "cell_type": "markdown",
   "metadata": {},
   "source": [
    "##### 5.a - Below is the FF-CV experiment for the Simple Perceptron."
   ]
  },
  {
   "cell_type": "code",
   "execution_count": 218,
   "metadata": {},
   "outputs": [
    {
     "name": "stdout",
     "output_type": "stream",
     "text": [
      "Accuracy statistics from five-fold cross-validation:\n",
      "\n",
      "Margin 'mu' \t| five-fold mean | five-fold std\n",
      "mu=1.0\t\t\t| 0.579\t\t | 0.048\n",
      "mu=0.1\t\t\t| 0.573\t\t | 0.067\n",
      "mu=0.01\t\t\t| 0.615\t\t | 0.034\n"
     ]
    }
   ],
   "source": [
    "cvv_stats, cvv_acc = ul.five_fold_CV(\n",
    "    k_datasets, labels, hyperparams=hps, e=epochs_a, \n",
    "    update_fnc=aggr_margin_update_func, lr_fnc=lr_update_func\n",
    "    )\n",
    "\n",
    "print(\"Accuracy statistics from five-fold cross-validation:\\n\")\n",
    "print(\"Margin 'mu' \\t| five-fold mean | five-fold std\")\n",
    "for (r, mu), (mean, std) in cvv_stats.items():\n",
    "    print(f\"mu={mu}\\t\\t\\t| {np.round(mean, 3)}\\t\\t | {np.round(std, 3)}\")\n"
   ]
  },
  {
   "cell_type": "markdown",
   "metadata": {},
   "source": [
    "Results: I ran the FF-CV experiment multiple times and mu=0.01 consistently had the best mean accuracies and lowest standard deviation. For the report, mean and std at mu=0.01 were 0.615 and 0.034 respectively."
   ]
  },
  {
   "cell_type": "markdown",
   "metadata": {},
   "source": [
    "##### 5.b - The cross-validation accuracy for the best hyperparameter "
   ]
  },
  {
   "cell_type": "markdown",
   "metadata": {},
   "source": [
    "Results: As stated above, the FF-CV accuracy for the best hyperparameters was 61.5%."
   ]
  },
  {
   "cell_type": "markdown",
   "metadata": {},
   "source": [
    "##### 5.c-5.e - The total number of updates the learning algorithm performs on the training set, etc"
   ]
  },
  {
   "cell_type": "code",
   "execution_count": 224,
   "metadata": {},
   "outputs": [
    {
     "name": "stdout",
     "output_type": "stream",
     "text": [
      "5.c - The total number of updates performed by the aggressive margin perceptron at mu=0.01: 8451.\n",
      "5.d - The maximum accuracy on the dev dataset: 0.785. Obtained by classifier derived at epoch: 18.\n",
      "5.e - The test accuracy by the classifier w/ the best dev dataset performance was 0.73.\n"
     ]
    }
   ],
   "source": [
    "mu = 0.01\n",
    "model = Perceptron(labels, update_fnc=aggr_margin_update_func, lr_fnc=lr_update_func)\n",
    "update_count, train_acc_ls = model.train(data_train, epochs=epochs_b, mu=mu, dev_data=data_dev)\n",
    "\n",
    "# Getting the classifier with the best accuracy.\n",
    "(best_idx, (best_acc, best_classifier)) = max(train_acc_ls.items(), key=lambda x : x[1][0])\n",
    "best_model = Perceptron(labels, model=(best_classifier, None))\n",
    "best_test_acc = round(best_model.calc_acc(x_test, y_test),2)\n",
    "\n",
    "print(f\"5.c - The total number of updates performed by the aggressive margin perceptron at mu=0.01: {update_count}.\")\n",
    "print(f\"5.d - The maximum accuracy on the dev dataset: {best_acc}. Obtained by classifier derived at epoch: {best_idx}.\")\n",
    "print(f\"5.e - The test accuracy by the classifier w/ the best dev dataset performance was {best_test_acc}.\")"
   ]
  },
  {
   "cell_type": "markdown",
   "metadata": {},
   "source": [
    "##### 5.f - Training Plot"
   ]
  },
  {
   "cell_type": "code",
   "execution_count": 226,
   "metadata": {},
   "outputs": [
    {
     "data": {
      "image/png": "[encoded data removed]",
      "text/plain": [
       "<Figure size 720x360 with 1 Axes>"
      ]
     },
     "metadata": {
      "needs_background": "light"
     },
     "output_type": "display_data"
    }
   ],
   "source": [
    "# Need to run the section above before running this block\n",
    "dev_accs = np.array([acc for _, (acc, _) in train_acc_ls.items()])\n",
    "x_accs = np.arange(epochs_b)\n",
    "fig = plt.figure(figsize=[10, 5])\n",
    "\n",
    "plt.plot(x_accs, dev_accs); plt.title(\"Aggressive Margin Perceptron Accuracy on Dev Dataset\")\n",
    "plt.xlabel(\"Epoch ID\"); plt.ylabel(\"Accuracy\")\n",
    "plt.ylim([min(dev_accs), max(dev_accs)+0.1])\n",
    "plt.plot(x_accs, np.ones_like(x_accs)*best_acc, 'k')\n",
    "plt.plot(np.ones_like(x_accs)*best_idx, np.linspace(0.5, 1, epochs_b), 'k')\n",
    "plt.show()"
   ]
  },
  {
   "cell_type": "markdown",
   "metadata": {},
   "source": [
    "### 4.4 - End of Report Questions"
   ]
  },
  {
   "cell_type": "markdown",
   "metadata": {},
   "source": [
    "#### 1. Briefly describe the design decisions that you have made in your implementation. (E.g, what programming language, how do you represent the vectors, etc.)"
   ]
  },
  {
   "cell_type": "markdown",
   "metadata": {},
   "source": [
    "Response: The perceptron was abstracted and is described by the 'Perceptron' class in 'perceptron.py'. I wanted to use the same functions for batch training so I simply created different update functions depending on the perceptron. I have three update functions for the three different types of perceptrons: simple, margin, and aggressive margin update functions. A similar strategy was used to allow for the two different learning rate functionalities (decaying lr and optimized lr). The classifier parameters were stored in one vector, so $\\textbf{w} = [w_0 \\; w_1 \\; \\dots \\; w_n]^T$ (same thing for the averaged perceptron parameters). Numpy arrays were used when possible to vectorize computations, which helped reduce run-times. A new instance of a 'Perceptron' can be created from an already trained model by passing the parameter vector to the constructor which faciliated parts c-f for every variant. My implementation uses python boolean values to represent the labels and a dictionary to derive the corresponding sign value when checking for errors. I created additional useful tools/functions in utils.py (Five-Fold CV and some useful data functions) to both reduce the complexity of my project and facilitate modularization."
   ]
  },
  {
   "cell_type": "markdown",
   "metadata": {},
   "source": [
    "#### 2. Consider a classifier that always predicts the most frequent label. What is its accuracy on test and development set?"
   ]
  },
  {
   "cell_type": "code",
   "execution_count": 241,
   "metadata": {},
   "outputs": [
    {
     "name": "stdout",
     "output_type": "stream",
     "text": [
      "Accuracy of classifier on test dataset that predicts the most frequent label '1': 0.5223880597014925\n",
      "Accuracy of classifier on dev dataset that predicts the most frequent label '1': 0.56\n"
     ]
    }
   ],
   "source": [
    "test_com = ul.get_common_label(y_test)\n",
    "test_pred = np.zeros_like(y_test) + int(test_com)\n",
    "\n",
    "dev_com = ul.get_common_label(y_dev)\n",
    "dev_pred = np.zeros_like(y_dev) + int(dev_com)\n",
    "print(f\"Accuracy of classifier on test dataset that predicts the most frequent label '{labels[test_com]}': {ul.calc_acc(test_pred, y_test)}.\")\n",
    "print(f\"Accuracy of classifier on dev dataset that predicts the most frequent label '{labels[dev_com]}': {ul.calc_acc(dev_pred, y_dev)}.\")"
   ]
  },
  {
   "cell_type": "markdown",
   "metadata": {},
   "source": [
    "Discussion: All my classifier implemenations performed better than the baseline classifier. Thus, my implementation is better than just randomly guessing or predicting the most common label in a given dataset. However, I believe my implementation could drastically improve if feature normalization was conducted on the feature-sets since I observed that some features were scaled either considerably larger or smaller than other features."
   ]
  }
 ],
 "metadata": {
  "kernelspec": {
   "display_name": "cade_env",
   "language": "python",
   "name": "python3"
  },
  "language_info": {
   "codemirror_mode": {
    "name": "ipython",
    "version": 3
   },
   "file_extension": ".py",
   "mimetype": "text/x-python",
   "name": "python",
   "nbconvert_exporter": "python",
   "pygments_lexer": "ipython3",
   "version": "3.9.7"
  }
 },
 "nbformat": 4,
 "nbformat_minor": 2
}
